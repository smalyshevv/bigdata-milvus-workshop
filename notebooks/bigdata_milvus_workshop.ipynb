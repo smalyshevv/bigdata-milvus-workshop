{
 "cells": [
  {
   "cell_type": "markdown",
   "id": "6a03fcdc-ce5f-4301-9f29-c634be688b09",
   "metadata": {},
   "source": [
    "# Цель занятия - разобраться в векторной базе milvus.\n",
    "# В качестве векторов будем использовать векторные представления пользователей и айтемов, полученные с помощью обучения модели машинного обучения (например разложение матрицы user-item)"
   ]
  },
  {
   "cell_type": "code",
   "execution_count": 1,
   "id": "16eed796-53f4-4424-ae5e-5056c6b2f51e",
   "metadata": {},
   "outputs": [],
   "source": [
    "import pandas as pd\n",
    "\n",
    "from lightfm import LightFM\n",
    "from lightfm.datasets import fetch_movielens\n",
    "from lightfm.evaluation import precision_at_k\n",
    "from lightfm.data import Dataset\n",
    "import numpy as np\n",
    "\n",
    "import random\n",
    "\n",
    "from pymilvus import (\n",
    "    connections,\n",
    "    FieldSchema, CollectionSchema, DataType,\n",
    "    Collection,\n",
    "    db,\n",
    ")\n",
    "from pymilvus.orm import utility\n",
    "import time\n",
    "from scipy import stats\n",
    "\n"
   ]
  },
  {
   "cell_type": "markdown",
   "id": "6583465f-2039-4fba-a403-69f6616690ca",
   "metadata": {},
   "source": [
    "## Данные из movie lens"
   ]
  },
  {
   "cell_type": "code",
   "execution_count": 2,
   "id": "befa2e21-a413-4789-a029-87a933dfe11e",
   "metadata": {},
   "outputs": [],
   "source": [
    "# выкачиваем данные\n",
    "movies = pd.read_csv(\"ml-latest-small/movies.csv\")\n",
    "tags = pd.read_csv(\"ml-latest-small/tags.csv\")\n",
    "ratings = pd.read_csv(\"ml-latest-small/ratings.csv\")"
   ]
  },
  {
   "cell_type": "code",
   "execution_count": 3,
   "id": "0d98f3fa-cba3-439b-81cd-5a7d54ec259a",
   "metadata": {},
   "outputs": [],
   "source": [
    "ratings[\"label\"] = ratings[\"rating\"] == 5.0"
   ]
  },
  {
   "cell_type": "code",
   "execution_count": 4,
   "id": "05bd89b0-343c-4d53-a6db-7f5c6baae24e",
   "metadata": {},
   "outputs": [],
   "source": [
    "dataset = Dataset()\n",
    "dataset.fit(users=ratings[\"userId\"].to_list(),       \n",
    "            items=ratings[\"movieId\"].to_list())\n"
   ]
  },
  {
   "cell_type": "code",
   "execution_count": 5,
   "id": "cb427157-b85a-40c7-9e41-01ba47397b8e",
   "metadata": {},
   "outputs": [],
   "source": [
    "(interactions, weights)  = dataset.build_interactions(ratings[[\"userId\", \"movieId\", \"label\"]].iloc[:, 0:3].values)"
   ]
  },
  {
   "cell_type": "code",
   "execution_count": 6,
   "id": "9940ead2-690b-488e-964e-5547a6c1ae3a",
   "metadata": {},
   "outputs": [],
   "source": [
    "mapping = dataset.mapping()"
   ]
  },
  {
   "cell_type": "code",
   "execution_count": 7,
   "id": "c8876776-81ed-43cb-a3ae-2076344252ae",
   "metadata": {},
   "outputs": [
    {
     "data": {
      "text/plain": [
       "<lightfm.lightfm.LightFM at 0xffff7b3cde80>"
      ]
     },
     "execution_count": 7,
     "metadata": {},
     "output_type": "execute_result"
    }
   ],
   "source": [
    "# обучаем модель\n",
    "model = LightFM(loss='warp', no_components=20, learning_rate=0.05)\n",
    "model.fit(interactions=interactions, epochs=30)\n"
   ]
  },
  {
   "cell_type": "markdown",
   "id": "55dfb512-494d-4c05-8927-86edbfeb71b6",
   "metadata": {},
   "source": [
    "## Получаем векторы, с которыми будем далее работать"
   ]
  },
  {
   "cell_type": "code",
   "execution_count": 8,
   "id": "93a5e4ee-8f89-41a4-ac3d-9979e63d9edd",
   "metadata": {},
   "outputs": [],
   "source": [
    "# получаем эмбеддинги (векторные представления) айтемов\n",
    "item_embs = model.get_item_representations()[1]\n",
    "item_embs = item_embs/np.linalg.norm(item_embs, ord=2, axis = 1)[:, np.newaxis]"
   ]
  },
  {
   "cell_type": "code",
   "execution_count": 9,
   "id": "8bb88a64-61ed-4aee-a986-d487acd29ac6",
   "metadata": {},
   "outputs": [],
   "source": [
    "# получаем эмбеддинги (векторные представления) юзеров\n",
    "user_embs =  model.get_user_representations()[1]\n",
    "user_embs = user_embs/np.linalg.norm(user_embs, ord=2, axis = 1)[:, np.newaxis]"
   ]
  },
  {
   "cell_type": "markdown",
   "id": "1f902df8-3bee-4ec7-8cf7-ece383214ba5",
   "metadata": {},
   "source": [
    "## Немного проверки того, что мы получили адекватные результаты"
   ]
  },
  {
   "cell_type": "code",
   "execution_count": 10,
   "id": "89f4f577-05e5-4616-a5cf-567e2b72b121",
   "metadata": {},
   "outputs": [],
   "source": [
    "reversed_mapping = {}\n",
    "for i in mapping[2].keys():\n",
    "    reversed_mapping[mapping[2][i]] = i"
   ]
  },
  {
   "cell_type": "code",
   "execution_count": 11,
   "id": "3422ece5-132b-4fbf-9bfb-35ed9d11fdbe",
   "metadata": {},
   "outputs": [],
   "source": [
    "def getMovieName(ind):\n",
    "    return movies[movies[\"movieId\"] == reversed_mapping[ind]][\"title\"].to_list()[0]"
   ]
  },
  {
   "cell_type": "code",
   "execution_count": 12,
   "id": "50a93fc5-eac6-42de-903d-e45a47599c18",
   "metadata": {},
   "outputs": [],
   "source": [
    "def getGenres(ind):\n",
    "    return movies[movies[\"movieId\"] == reversed_mapping[ind]][\"genres\"].to_list()[0]"
   ]
  },
  {
   "cell_type": "code",
   "execution_count": 13,
   "id": "b9b0d7fc-5b35-4e2c-a539-749aa4727943",
   "metadata": {},
   "outputs": [],
   "source": [
    "dists = item_embs.dot(item_embs[70])"
   ]
  },
  {
   "cell_type": "code",
   "execution_count": 14,
   "id": "279d84c5-ea53-4627-8012-885da864b834",
   "metadata": {},
   "outputs": [],
   "source": [
    "arr = dists.argsort()[-10:][::-1]\n"
   ]
  },
  {
   "cell_type": "code",
   "execution_count": 15,
   "id": "f326be17-2b9a-4ac1-96fd-cb0cc373758a",
   "metadata": {},
   "outputs": [
    {
     "data": {
      "text/plain": [
       "'Raiders of the Lost Ark (Indiana Jones and the Raiders of the Lost Ark) (1981)'"
      ]
     },
     "execution_count": 15,
     "metadata": {},
     "output_type": "execute_result"
    }
   ],
   "source": [
    "getMovieName(70)"
   ]
  },
  {
   "cell_type": "code",
   "execution_count": 16,
   "id": "e654c682-5b29-4095-8ced-9140ce1610f7",
   "metadata": {},
   "outputs": [
    {
     "data": {
      "text/plain": [
       "['Raiders of the Lost Ark (Indiana Jones and the Raiders of the Lost Ark) (1981)',\n",
       " 'Star Wars: Episode V - The Empire Strikes Back (1980)',\n",
       " 'Indiana Jones and the Last Crusade (1989)',\n",
       " 'Indiana Jones and the Temple of Doom (1984)',\n",
       " 'Star Wars: Episode IV - A New Hope (1977)',\n",
       " 'Alien (1979)',\n",
       " 'Sixth Sense, The (1999)',\n",
       " 'Godfather, The (1972)',\n",
       " 'Aliens (1986)',\n",
       " 'Die Hard (1988)']"
      ]
     },
     "execution_count": 16,
     "metadata": {},
     "output_type": "execute_result"
    }
   ],
   "source": [
    "[getMovieName(i) for i in arr]"
   ]
  },
  {
   "cell_type": "markdown",
   "id": "533e680a-ed52-4636-ad7d-5442723ee927",
   "metadata": {},
   "source": [
    "# Начинаем работу с векторной базой"
   ]
  },
  {
   "cell_type": "markdown",
   "id": "9708a5e2-8ec5-48d4-8115-1badf47cf94d",
   "metadata": {},
   "source": [
    "## Шаг 1: Подключаемся к базе"
   ]
  },
  {
   "cell_type": "code",
   "execution_count": 17,
   "id": "81549203-5bb2-4ef4-97c3-70d8e60b60d0",
   "metadata": {},
   "outputs": [],
   "source": [
    "HOST = 'milvus-standalone'\n",
    "PORT = '19530'\n",
    "USER = \"username\"\n",
    "USER_PASSWORD = \"password\"\n",
    "db_name=\"default\"\n",
    "\n",
    "connections.connect(host=HOST,\n",
    "                    port=PORT,\n",
    "                    user=USER,\n",
    "                    password=USER_PASSWORD,\n",
    "                    db_name=db_name,\n",
    "                    )\n"
   ]
  },
  {
   "cell_type": "code",
   "execution_count": 21,
   "id": "8fa6c531-052c-4a9c-a238-7304cbf233a1",
   "metadata": {},
   "outputs": [
    {
     "data": {
      "text/plain": [
       "<pymilvus.orm.connections.Connections at 0xffff558ae430>"
      ]
     },
     "execution_count": 21,
     "metadata": {},
     "output_type": "execute_result"
    }
   ],
   "source": []
  },
  {
   "cell_type": "code",
   "execution_count": 86,
   "id": "0de4c83b-5a59-4427-b59c-67fcd296ad05",
   "metadata": {},
   "outputs": [
    {
     "data": {
      "text/plain": [
       "[('default', None)]"
      ]
     },
     "execution_count": 86,
     "metadata": {},
     "output_type": "execute_result"
    }
   ],
   "source": [
    "connections.list_connections()"
   ]
  },
  {
   "cell_type": "code",
   "execution_count": 85,
   "id": "eb5b022b-808b-4309-82db-949acc2a823a",
   "metadata": {},
   "outputs": [],
   "source": [
    "connections.disconnect(\"default\")"
   ]
  },
  {
   "cell_type": "markdown",
   "id": "3afa62f1-75a6-4e3e-a3d8-9309163a0970",
   "metadata": {},
   "source": [
    "## Шаг 2: Создаем коллекцию"
   ]
  },
  {
   "cell_type": "code",
   "execution_count": 24,
   "id": "a3acc3f3-f9b3-4862-844b-df487e939d7b",
   "metadata": {},
   "outputs": [],
   "source": [
    "default_fields = [\n",
    "    FieldSchema(name=\"id\", dtype=DataType.INT64, is_primary=True),\n",
    "    FieldSchema(name=\"name\", dtype=DataType.VARCHAR, max_length=200),\n",
    "    FieldSchema(name=\"genre\", dtype=DataType.VARCHAR, max_length=200),\n",
    "    FieldSchema(name=\"emb\", dtype=DataType.FLOAT_VECTOR, dim=20)\n",
    "]"
   ]
  },
  {
   "cell_type": "code",
   "execution_count": 25,
   "id": "9fc9acd9-03c4-42a2-abad-bda1639b2d3f",
   "metadata": {},
   "outputs": [],
   "source": [
    "default_schema = CollectionSchema(fields=default_fields)"
   ]
  },
  {
   "cell_type": "code",
   "execution_count": 30,
   "id": "f1381613-06bd-446c-901a-dd61c3a0c925",
   "metadata": {},
   "outputs": [],
   "source": [
    "current_collection = Collection(name=\"movies\", schema=default_schema, using=\"default\")"
   ]
  },
  {
   "cell_type": "code",
   "execution_count": 31,
   "id": "3e1aa77c-a5b2-4918-9933-7170065e7ece",
   "metadata": {},
   "outputs": [
    {
     "data": {
      "text/plain": [
       "<Collection>:\n",
       "-------------\n",
       "<name>: movies\n",
       "<description>: \n",
       "<schema>: {'auto_id': False, 'description': '', 'fields': [{'name': 'id', 'description': '', 'type': <DataType.INT64: 5>, 'is_primary': True, 'auto_id': False}, {'name': 'name', 'description': '', 'type': <DataType.VARCHAR: 21>, 'params': {'max_length': 200}}, {'name': 'genre', 'description': '', 'type': <DataType.VARCHAR: 21>, 'params': {'max_length': 200}}, {'name': 'emb', 'description': '', 'type': <DataType.FLOAT_VECTOR: 101>, 'params': {'dim': 20}}]}"
      ]
     },
     "execution_count": 31,
     "metadata": {},
     "output_type": "execute_result"
    }
   ],
   "source": [
    "current_collection"
   ]
  },
  {
   "cell_type": "code",
   "execution_count": 32,
   "id": "b9ffb452-74d1-46db-b190-044f0127c963",
   "metadata": {},
   "outputs": [],
   "source": [
    "embs_list = [i.tolist() for i in item_embs]\n",
    "names_list = [getMovieName(i) for i in range(len(embs_list))]\n",
    "genres_list = [getGenres(i) for i in range(len(embs_list))]"
   ]
  },
  {
   "cell_type": "code",
   "execution_count": 36,
   "id": "0348df3e-9d62-42f6-8c82-389d3a3a5d4b",
   "metadata": {},
   "outputs": [
    {
     "data": {
      "text/plain": [
       "9724"
      ]
     },
     "execution_count": 36,
     "metadata": {},
     "output_type": "execute_result"
    }
   ],
   "source": [
    "len(embs_list)"
   ]
  },
  {
   "cell_type": "markdown",
   "id": "33ec6668-774d-43ac-8256-c7ba708cccbf",
   "metadata": {},
   "source": [
    "## Шаг 3: Заливаем векторы в коллекцию"
   ]
  },
  {
   "cell_type": "code",
   "execution_count": 33,
   "id": "f4033fad-c14f-43a8-b949-35ee2c822433",
   "metadata": {},
   "outputs": [
    {
     "data": {
      "text/plain": [
       "(insert count: 9724, delete count: 0, upsert count: 0, timestamp: 453860413920772100, success count: 9724, err count: 0)"
      ]
     },
     "execution_count": 33,
     "metadata": {},
     "output_type": "execute_result"
    }
   ],
   "source": [
    "# шаг 3.1: insert\n",
    "num = len(embs_list)\n",
    "data = [\n",
    "    [i for i in range(num)],\n",
    "    [names_list[i] for i in range(num)],\n",
    "    [genres_list[i] for i in range(num)],\n",
    "    [embs_list[i] for i in range(num)],\n",
    "]\n",
    "current_collection.insert(data)"
   ]
  },
  {
   "cell_type": "code",
   "execution_count": 56,
   "id": "eb2d960a-3ea7-4b43-9894-56541906d097",
   "metadata": {},
   "outputs": [],
   "source": [
    "# шаг 3.2: flush\n",
    "current_collection.flush()"
   ]
  },
  {
   "cell_type": "markdown",
   "id": "fdaa19cd-5ef1-44d3-92b0-dd53c76b6eef",
   "metadata": {},
   "source": [
    "## Шаг 4: Индексируем базу для быстрого доступа к векторами"
   ]
  },
  {
   "cell_type": "markdown",
   "id": "70d9201a-f0b0-4e5d-b1ba-c2ec5deff0fc",
   "metadata": {},
   "source": [
    "## Index Types\n",
    "\n",
    "|Название\t| Вид индекса| Примечания|\n",
    "| --- | --- | --- |\n",
    "|**FLAT**\t| нет| Небольшой датасет, 100% полнота (рекол)|\n",
    "|**IVF_FLAT**\t| Квантизационный индекс\t| Быстрые запросы, Рекол настолько большой насколько возможно|\n",
    "|**IVF_SQ8**\t| Квантизационный индекс\t| Быстрые запросы, Требуется ограничнное количество памяти, Небольшие компромисы по реколу|\n",
    "**IVF_PQ**\t| Квантизационный индекс | Очень быстрые запросы, Требуется ограничнное количество памяти, Большие компромисы по реколу|\n",
    "**HNSW**\t| Графовый индекс\t| Очень быстрые запросы, Рекол настолько большой насколько возможно, Большие затраты памяти|\n",
    "**SCANN**\t| Квантизационный индекс\t | Очень быстрые запросы, Рекол настолько большой насколько возможно, Большие затраты памяти|\n",
    "\n",
    "Помимо указанных индексов есть еще индексы для GPU"
   ]
  },
  {
   "cell_type": "code",
   "execution_count": 34,
   "id": "8019bbd0-ad35-438a-8291-180ecc34bdb3",
   "metadata": {},
   "outputs": [],
   "source": [
    "INDEX_TYPE = 'IVF_SQ8'"
   ]
  },
  {
   "cell_type": "markdown",
   "id": "d1f08a1e-5d74-488d-84e0-a115184a8397",
   "metadata": {},
   "source": [
    "### Шаг 4.1: Помимо выбора типа индекса, надо определиться с метрикой подсчета расстояния \n",
    "#### - она будет очень сильно влиять на перфоманс и точность поиска, поэтому выбирайте метрику с умом\n",
    "\n",
    "#### Виды метрик \n",
    "- Euclidean distance (L2)\n",
    "- Inner product (IP)\n",
    "- Cosine similarity (COSINE)\n"
   ]
  },
  {
   "cell_type": "code",
   "execution_count": 35,
   "id": "6d4380e0-0371-4127-9f2a-d66d5fbc5365",
   "metadata": {},
   "outputs": [],
   "source": [
    "METRIC_TYPE = \"IP\""
   ]
  },
  {
   "cell_type": "code",
   "execution_count": 38,
   "id": "38cfb0fc-fed2-4610-bd8b-69722ecadc5c",
   "metadata": {},
   "outputs": [],
   "source": [
    "NLIST = 1024 # а вот это - количество кластеров, на которое мы разбиваем наше пространство"
   ]
  },
  {
   "cell_type": "markdown",
   "id": "c6b86028-3784-4a4d-8b13-8dd6c94ed179",
   "metadata": {},
   "source": [
    "#### Есть несколько подходов к определению оптимального количества кластеров\n",
    "#### Правило большого пальца: В целом, значение nlist должно быть около √N. Это начальная оценка, и её можно уточнять экспериментально.\n",
    "#### Говорят еще о √N * 4"
   ]
  },
  {
   "cell_type": "code",
   "execution_count": 39,
   "id": "2a5433b9-fdd8-4383-b558-95a28f9ae625",
   "metadata": {},
   "outputs": [
    {
     "data": {
      "text/plain": [
       "Status(code=0, message=)"
      ]
     },
     "execution_count": 39,
     "metadata": {},
     "output_type": "execute_result"
    }
   ],
   "source": [
    "# Шаг 4.2: создаем индекс для нашего поля \"emb\"\n",
    "# Типы индексов https://milvus.io/docs/index.md\n",
    "index_param = {\n",
    "    \"index_type\": INDEX_TYPE,\n",
    "    \"params\": {\"nlist\": NLIST},\n",
    "    \"metric_type\": METRIC_TYPE}\n",
    "current_collection.create_index(\"emb\", index_param)"
   ]
  },
  {
   "cell_type": "code",
   "execution_count": 40,
   "id": "8016f929-afea-498b-8c99-b63f6059e6bd",
   "metadata": {},
   "outputs": [],
   "source": [
    "# Шаг 4.3: Загружаем индекс в память\n",
    "current_collection.load()"
   ]
  },
  {
   "cell_type": "markdown",
   "id": "1ebd3a20-e06c-4eb3-b8a7-acede6a37022",
   "metadata": {},
   "source": [
    "### Шаг 5: Мы загрузили векторы в память базы, можно ей наконец пользоваться и делать запросы на поиск ближайших к нашему вектору-зарпосу"
   ]
  },
  {
   "cell_type": "markdown",
   "id": "731991c0-2b3c-46a5-8025-9e95d502cbb3",
   "metadata": {},
   "source": [
    "#### Шаг 5.1: самый базовый запрос"
   ]
  },
  {
   "cell_type": "code",
   "execution_count": 41,
   "id": "4c389b93-988a-44a1-9eec-2d24f88a172f",
   "metadata": {},
   "outputs": [],
   "source": [
    "NPROBE = 16"
   ]
  },
  {
   "cell_type": "code",
   "execution_count": 42,
   "id": "845cddd0-381d-4db7-86fd-076c490991c4",
   "metadata": {},
   "outputs": [
    {
     "data": {
      "text/plain": [
       "'Raiders of the Lost Ark (Indiana Jones and the Raiders of the Lost Ark) (1981)'"
      ]
     },
     "execution_count": 42,
     "metadata": {},
     "output_type": "execute_result"
    }
   ],
   "source": [
    "getMovieName(70)"
   ]
  },
  {
   "cell_type": "code",
   "execution_count": 43,
   "id": "5737038a-c2ef-4677-816e-1701733a875c",
   "metadata": {},
   "outputs": [
    {
     "name": "stdout",
     "output_type": "stream",
     "text": [
      "CPU times: user 4.18 ms, sys: 1.12 ms, total: 5.3 ms\n",
      "Wall time: 18.3 ms\n"
     ]
    }
   ],
   "source": [
    "%%time\n",
    "results = current_collection.search(\n",
    "            data = [embs_list[70]],\n",
    "            anns_field = \"emb\",\n",
    "            param = {\"metric_type\": METRIC_TYPE, \"params\": {\"nprobe\": NPROBE}},\n",
    "            output_fields=['name'],\n",
    "            limit = 10\n",
    "            )"
   ]
  },
  {
   "cell_type": "code",
   "execution_count": 141,
   "id": "1e90a4b7-ccc3-4ab4-9290-2dea173e312c",
   "metadata": {},
   "outputs": [
    {
     "data": {
      "text/plain": [
       "'Raiders of the Lost Ark (Indiana Jones and the Raiders of the Lost Ark) (1981)'"
      ]
     },
     "execution_count": 141,
     "metadata": {},
     "output_type": "execute_result"
    }
   ],
   "source": [
    "getMovieName(70)"
   ]
  },
  {
   "cell_type": "code",
   "execution_count": 44,
   "id": "3b3822e0-3cf8-4e9c-8f4c-e854eaaf747d",
   "metadata": {},
   "outputs": [
    {
     "name": "stdout",
     "output_type": "stream",
     "text": [
      "Raiders of the Lost Ark (Indiana Jones and the Raiders of the Lost Ark) (1981) 0.9999999403953552\n",
      "Star Wars: Episode V - The Empire Strikes Back (1980) 0.9606975317001343\n",
      "Indiana Jones and the Last Crusade (1989) 0.9568753242492676\n",
      "Indiana Jones and the Temple of Doom (1984) 0.926886260509491\n",
      "Star Wars: Episode IV - A New Hope (1977) 0.9210113286972046\n",
      "Alien (1979) 0.918973982334137\n",
      "Sixth Sense, The (1999) 0.9135994911193848\n",
      "Godfather, The (1972) 0.9086208343505859\n",
      "Aliens (1986) 0.9065264463424683\n",
      "Die Hard (1988) 0.903779923915863\n"
     ]
    }
   ],
   "source": [
    "for elements in results:\n",
    "    for element in elements:\n",
    "        print(element.entity.get('name'), element.distance)"
   ]
  },
  {
   "cell_type": "code",
   "execution_count": 45,
   "id": "5aaaa648-2a9d-4467-85da-3a1dab2797e0",
   "metadata": {},
   "outputs": [
    {
     "data": {
      "text/plain": [
       "['Raiders of the Lost Ark (Indiana Jones and the Raiders of the Lost Ark) (1981)',\n",
       " 'Star Wars: Episode V - The Empire Strikes Back (1980)',\n",
       " 'Indiana Jones and the Last Crusade (1989)',\n",
       " 'Indiana Jones and the Temple of Doom (1984)',\n",
       " 'Star Wars: Episode IV - A New Hope (1977)',\n",
       " 'Alien (1979)',\n",
       " 'Sixth Sense, The (1999)',\n",
       " 'Godfather, The (1972)',\n",
       " 'Aliens (1986)',\n",
       " 'Die Hard (1988)']"
      ]
     },
     "execution_count": 45,
     "metadata": {},
     "output_type": "execute_result"
    }
   ],
   "source": [
    "[getMovieName(i) for i in arr]"
   ]
  },
  {
   "cell_type": "code",
   "execution_count": 46,
   "id": "b9fc889a-d34a-49af-b751-dccb24dd4e33",
   "metadata": {},
   "outputs": [
    {
     "name": "stdout",
     "output_type": "stream",
     "text": [
      "CPU times: user 5.01 ms, sys: 124 µs, total: 5.13 ms\n",
      "Wall time: 11.1 ms\n"
     ]
    }
   ],
   "source": [
    "%%time\n",
    "#добавляем жанр в выходные поля, чтобы мы могли видеть помимо тайтла еще и жанр\n",
    "results = current_collection.search(\n",
    "            data = [embs_list[70]],\n",
    "            anns_field = \"emb\",\n",
    "            param = {\"metric_type\": METRIC_TYPE, \"params\": {\"nprobe\": NPROBE}},\n",
    "            output_fields=['name', 'genre'],\n",
    "            limit = 10\n",
    "            )"
   ]
  },
  {
   "cell_type": "code",
   "execution_count": 77,
   "id": "535bd54c-bd26-4f3b-969c-10418890cd2c",
   "metadata": {},
   "outputs": [
    {
     "data": {
      "text/plain": [
       "'Raiders of the Lost Ark (Indiana Jones and the Raiders of the Lost Ark) (1981)'"
      ]
     },
     "execution_count": 77,
     "metadata": {},
     "output_type": "execute_result"
    }
   ],
   "source": [
    "getMovieName(70)"
   ]
  },
  {
   "cell_type": "code",
   "execution_count": 47,
   "id": "1857ba2f-52ff-412f-9732-50708d717c6a",
   "metadata": {},
   "outputs": [
    {
     "name": "stdout",
     "output_type": "stream",
     "text": [
      "Raiders of the Lost Ark (Indiana Jones and the Raiders of the Lost Ark) (1981) Action|Adventure 0.9999999403953552\n",
      "Star Wars: Episode V - The Empire Strikes Back (1980) Action|Adventure|Sci-Fi 0.9606975317001343\n",
      "Indiana Jones and the Last Crusade (1989) Action|Adventure 0.9568753242492676\n",
      "Indiana Jones and the Temple of Doom (1984) Action|Adventure|Fantasy 0.926886260509491\n",
      "Star Wars: Episode IV - A New Hope (1977) Action|Adventure|Sci-Fi 0.9210113286972046\n",
      "Alien (1979) Horror|Sci-Fi 0.918973982334137\n",
      "Sixth Sense, The (1999) Drama|Horror|Mystery 0.9135994911193848\n",
      "Godfather, The (1972) Crime|Drama 0.9086208343505859\n",
      "Aliens (1986) Action|Adventure|Horror|Sci-Fi 0.9065264463424683\n",
      "Die Hard (1988) Action|Crime|Thriller 0.903779923915863\n"
     ]
    }
   ],
   "source": [
    "for elements in results:\n",
    "    for element in elements:\n",
    "        print(element.entity.get('name'), element.entity.get('genre'), element.distance)"
   ]
  },
  {
   "cell_type": "markdown",
   "id": "1a363469-b8a9-48b1-85c8-950bc59b60bf",
   "metadata": {},
   "source": [
    "#### Шаг 5.2: Простой запрос без векторов\n",
    "* Можно выполнять запросы как в обычном sql\n",
    "* Запросы должны быть булевыми выражениями.\n",
    "* Подробнее: https://milvus.io/docs/boolean.md"
   ]
  },
  {
   "cell_type": "code",
   "execution_count": 48,
   "id": "fc4efd29-cad2-45a5-8339-ff15f4fa4850",
   "metadata": {},
   "outputs": [
    {
     "name": "stdout",
     "output_type": "stream",
     "text": [
      "CPU times: user 9.97 ms, sys: 1.03 ms, total: 11 ms\n",
      "Wall time: 17.9 ms\n"
     ]
    }
   ],
   "source": [
    "%%time\n",
    "results = current_collection.query(\n",
    "            expr=\"genre == 'Comedy'\",\n",
    "            output_fields=['name', 'genre'],\n",
    "            )"
   ]
  },
  {
   "cell_type": "code",
   "execution_count": 49,
   "id": "7229c8fa-3e58-444e-a3c3-0210fd7f201f",
   "metadata": {},
   "outputs": [
    {
     "name": "stdout",
     "output_type": "stream",
     "text": [
      "{'id': 11, 'name': 'Billy Madison (1995)', 'genre': 'Comedy'}\n",
      "{'id': 12, 'name': 'Clerks (1994)', 'genre': 'Comedy'}\n",
      "{'id': 18, 'name': 'Tommy Boy (1995)', 'genre': 'Comedy'}\n",
      "{'id': 24, 'name': 'Dazed and Confused (1993)', 'genre': 'Comedy'}\n",
      "{'id': 61, 'name': \"Monty Python's Life of Brian (1979)\", 'genre': 'Comedy'}\n"
     ]
    }
   ],
   "source": [
    "for hits in results[0:5]:\n",
    "    print(hits)"
   ]
  },
  {
   "cell_type": "code",
   "execution_count": 50,
   "id": "50063354-c418-4f2f-bf7d-9ae411a081a2",
   "metadata": {},
   "outputs": [
    {
     "name": "stdout",
     "output_type": "stream",
     "text": [
      "CPU times: user 8.67 ms, sys: 3.16 ms, total: 11.8 ms\n",
      "Wall time: 20 ms\n"
     ]
    }
   ],
   "source": [
    "%%time\n",
    "results = current_collection.query(\n",
    "            expr=\"id > 9000\",\n",
    "            output_fields=['name', 'genre'],\n",
    "            )"
   ]
  },
  {
   "cell_type": "code",
   "execution_count": 51,
   "id": "1a0e52a9-cde0-4400-8d82-494da8771a33",
   "metadata": {},
   "outputs": [
    {
     "name": "stdout",
     "output_type": "stream",
     "text": [
      "{'id': 9001, 'name': 'Time Code (2000)', 'genre': 'Comedy|Drama'}\n",
      "{'id': 9002, 'name': 'Stay Tuned (1992)', 'genre': 'Comedy'}\n",
      "{'id': 9003, 'name': 'Brother from Another Planet, The (1984)', 'genre': 'Drama|Sci-Fi'}\n",
      "{'id': 9004, 'name': 'Sleepwalkers (1992)', 'genre': 'Horror'}\n",
      "{'id': 9005, 'name': 'Ghoulies II (1987)', 'genre': 'Comedy|Horror'}\n"
     ]
    }
   ],
   "source": [
    "for hits in results[0:5]:\n",
    "    print(hits)"
   ]
  },
  {
   "cell_type": "code",
   "execution_count": 52,
   "id": "6c25edbf-960e-4c2d-8971-115e55d649d7",
   "metadata": {},
   "outputs": [
    {
     "name": "stdout",
     "output_type": "stream",
     "text": [
      "CPU times: user 2.35 ms, sys: 1.01 ms, total: 3.37 ms\n",
      "Wall time: 6.99 ms\n"
     ]
    }
   ],
   "source": [
    "%%time\n",
    "# Проверка по префиксу\n",
    "results = current_collection.query(\n",
    "            expr=\"name like 'Toy%'\",\n",
    "            output_fields=['name', 'genre'],\n",
    "            )"
   ]
  },
  {
   "cell_type": "code",
   "execution_count": 53,
   "id": "c1bef997-f501-4fa6-b9bb-ee56df778d1a",
   "metadata": {},
   "outputs": [
    {
     "name": "stdout",
     "output_type": "stream",
     "text": [
      "{'name': 'Toy Story (1995)', 'genre': 'Adventure|Animation|Children|Comedy|Fantasy', 'id': 0}\n",
      "{'name': 'Toys (1992)', 'genre': 'Comedy|Fantasy', 'id': 143}\n",
      "{'name': 'Toy Story 2 (1999)', 'genre': 'Adventure|Animation|Children|Comedy|Fantasy', 'id': 735}\n",
      "{'name': 'Toy Soldiers (1991)', 'genre': 'Action|Drama', 'id': 850}\n",
      "{'name': 'Toy Story 3 (2010)', 'genre': 'Adventure|Animation|Children|Comedy|Fantasy|IMAX', 'id': 1133}\n"
     ]
    }
   ],
   "source": [
    "for hits in results[0:5]:\n",
    "    print(hits)"
   ]
  },
  {
   "cell_type": "markdown",
   "id": "4242f70c-7b72-4dbc-ab7d-3911387305ec",
   "metadata": {},
   "source": [
    "#### Шаг 5.3: Гибридные запросы\n",
    "##### Можно накладывать ограничения по запросам на поиск вектора."
   ]
  },
  {
   "cell_type": "markdown",
   "id": "41ef3ef8-9dac-4f4b-8029-55e96ad32e99",
   "metadata": {},
   "source": [
    "##### Шаг 5.3.1: Ограничение на значение полей"
   ]
  },
  {
   "cell_type": "code",
   "execution_count": 54,
   "id": "3002a742-66cd-4ee3-b22e-3323e8d378e2",
   "metadata": {},
   "outputs": [
    {
     "name": "stdout",
     "output_type": "stream",
     "text": [
      "CPU times: user 4.55 ms, sys: 2.37 ms, total: 6.93 ms\n",
      "Wall time: 12.1 ms\n"
     ]
    }
   ],
   "source": [
    "%%time\n",
    "results = current_collection.search(\n",
    "            data = [embs_list[70]],\n",
    "            anns_field = \"emb\",\n",
    "            param = {\"metric_type\": METRIC_TYPE, \"params\": {\"nprobe\": NPROBE}},\n",
    "            output_fields=['name', 'genre'],\n",
    "            limit = 10,\n",
    "            expr=\"genre == 'Comedy'\",\n",
    "            )"
   ]
  },
  {
   "cell_type": "code",
   "execution_count": 55,
   "id": "27761d74-3cc3-4205-a402-c9903540562a",
   "metadata": {},
   "outputs": [
    {
     "name": "stdout",
     "output_type": "stream",
     "text": [
      "distance: 0.8614852428436279 name: Airplane! (1980) genre: Comedy\n",
      "distance: 0.8261951208114624 name: Ferris Bueller's Day Off (1986) genre: Comedy\n",
      "distance: 0.8081492185592651 name: Monty Python's Life of Brian (1979) genre: Comedy\n",
      "distance: 0.7901660203933716 name: Planes, Trains & Automobiles (1987) genre: Comedy\n",
      "distance: 0.7847710847854614 name: Animal House (1978) genre: Comedy\n",
      "distance: 0.7775080800056458 name: Monty Python's And Now for Something Completely Different (1971) genre: Comedy\n",
      "distance: 0.7616171836853027 name: Dirty Rotten Scoundrels (1988) genre: Comedy\n",
      "distance: 0.7320654988288879 name: Liar Liar (1997) genre: Comedy\n",
      "distance: 0.7031007409095764 name: This Is Spinal Tap (1984) genre: Comedy\n",
      "distance: 0.6963610649108887 name: I Heart Huckabees (2004) genre: Comedy\n"
     ]
    }
   ],
   "source": [
    "for hits in results:\n",
    "    for hit in hits:\n",
    "        print(\"distance:\", hit.distance, \"name:\", hit.entity.get('name'), \"genre:\", hit.entity.get('genre'))"
   ]
  },
  {
   "cell_type": "markdown",
   "id": "97cc4a85-578d-4fe2-b5a2-e0a534e6dfeb",
   "metadata": {},
   "source": [
    "##### Сравним без ограничений"
   ]
  },
  {
   "cell_type": "code",
   "execution_count": 58,
   "id": "0dc36428-5e2a-4e26-ac1b-198eda3d746d",
   "metadata": {},
   "outputs": [
    {
     "name": "stdout",
     "output_type": "stream",
     "text": [
      "CPU times: user 6.09 ms, sys: 95 µs, total: 6.18 ms\n",
      "Wall time: 12.6 ms\n"
     ]
    }
   ],
   "source": [
    "%%time\n",
    "results = current_collection.search(\n",
    "            data = [embs_list[70]],\n",
    "            anns_field = \"emb\",\n",
    "            param = {\"metric_type\": METRIC_TYPE, \"params\": {\"nprobe\": NPROBE}},\n",
    "            output_fields=['name', \"genre\"],\n",
    "            limit = 10\n",
    "            )"
   ]
  },
  {
   "cell_type": "code",
   "execution_count": 59,
   "id": "7bace4dd-2af4-47be-99b3-b540b4d4dd20",
   "metadata": {},
   "outputs": [
    {
     "name": "stdout",
     "output_type": "stream",
     "text": [
      "distance: 0.9999999403953552 name: Raiders of the Lost Ark (Indiana Jones and the Raiders of the Lost Ark) (1981) genre: Action|Adventure\n",
      "distance: 0.9606975317001343 name: Star Wars: Episode V - The Empire Strikes Back (1980) genre: Action|Adventure|Sci-Fi\n",
      "distance: 0.9568753242492676 name: Indiana Jones and the Last Crusade (1989) genre: Action|Adventure\n",
      "distance: 0.926886260509491 name: Indiana Jones and the Temple of Doom (1984) genre: Action|Adventure|Fantasy\n",
      "distance: 0.9210113286972046 name: Star Wars: Episode IV - A New Hope (1977) genre: Action|Adventure|Sci-Fi\n",
      "distance: 0.918973982334137 name: Alien (1979) genre: Horror|Sci-Fi\n",
      "distance: 0.9135994911193848 name: Sixth Sense, The (1999) genre: Drama|Horror|Mystery\n",
      "distance: 0.9086208343505859 name: Godfather, The (1972) genre: Crime|Drama\n",
      "distance: 0.9065264463424683 name: Aliens (1986) genre: Action|Adventure|Horror|Sci-Fi\n",
      "distance: 0.903779923915863 name: Die Hard (1988) genre: Action|Crime|Thriller\n"
     ]
    }
   ],
   "source": [
    "for hits in results:\n",
    "    for hit in hits:\n",
    "        print(\"distance:\", hit.distance, \"name:\", hit.entity.get('name'), \"genre:\", hit.entity.get('genre'))"
   ]
  },
  {
   "cell_type": "markdown",
   "id": "2b5b9018-fcc2-47bf-b1b5-3c7bc2da7672",
   "metadata": {},
   "source": [
    "##### Шаг 5.3.2: Ограничение на расстояние"
   ]
  },
  {
   "cell_type": "code",
   "execution_count": 62,
   "id": "a62f8ff5-793a-4801-b615-b2f40e6cccc2",
   "metadata": {},
   "outputs": [
    {
     "name": "stdout",
     "output_type": "stream",
     "text": [
      "CPU times: user 2.76 ms, sys: 4.04 ms, total: 6.79 ms\n",
      "Wall time: 14 ms\n"
     ]
    }
   ],
   "source": [
    "%%time\n",
    "results = current_collection.search(\n",
    "            data = [embs_list[70]],\n",
    "            anns_field = \"emb\",\n",
    "            param = {\"metric_type\": METRIC_TYPE, \"params\": {\"nprobe\": NPROBE,\n",
    "                # искать вектора с расстоянием более 0.8\n",
    "                \"radius\": 0.9,\n",
    "                # отфильтровать самые близкие вектора с расстоянием более 0.95\n",
    "                \"range_filter\" : 0.95}},\n",
    "            output_fields=['name', 'genre'],\n",
    "            limit = 10,\n",
    "            )\n"
   ]
  },
  {
   "cell_type": "code",
   "execution_count": 63,
   "id": "d458c6cf-f620-4550-ae84-8a1f19760825",
   "metadata": {},
   "outputs": [
    {
     "name": "stdout",
     "output_type": "stream",
     "text": [
      "distance: 0.926886260509491 name: Indiana Jones and the Temple of Doom (1984) genre: Action|Adventure|Fantasy\n",
      "distance: 0.9210113286972046 name: Star Wars: Episode IV - A New Hope (1977) genre: Action|Adventure|Sci-Fi\n",
      "distance: 0.918973982334137 name: Alien (1979) genre: Horror|Sci-Fi\n",
      "distance: 0.9135994911193848 name: Sixth Sense, The (1999) genre: Drama|Horror|Mystery\n",
      "distance: 0.9086208343505859 name: Godfather, The (1972) genre: Crime|Drama\n",
      "distance: 0.9065264463424683 name: Aliens (1986) genre: Action|Adventure|Horror|Sci-Fi\n",
      "distance: 0.903779923915863 name: Die Hard (1988) genre: Action|Crime|Thriller\n",
      "distance: 0.9025976061820984 name: Back to the Future (1985) genre: Adventure|Comedy|Sci-Fi\n"
     ]
    }
   ],
   "source": [
    "for hits in results:\n",
    "    for hit in hits:\n",
    "        print(\"distance:\", hit.distance, \"name:\", hit.entity.get('name'), \"genre:\", hit.entity.get('genre'))"
   ]
  },
  {
   "cell_type": "markdown",
   "id": "1242979c-5c9f-4579-a7e5-78f719832294",
   "metadata": {},
   "source": [
    "#### Шаг 6: Давайте сравним перфоманс разных поисков по времени"
   ]
  },
  {
   "cell_type": "code",
   "execution_count": 64,
   "id": "73801bca-9880-432b-9b22-b3b23616743a",
   "metadata": {},
   "outputs": [],
   "source": [
    "num_reqs = 1000"
   ]
  },
  {
   "cell_type": "code",
   "execution_count": 65,
   "id": "28e1995f-5da6-44c1-8f67-07948f8cb220",
   "metadata": {},
   "outputs": [],
   "source": [
    "# Поиск по вектору\n",
    "vec_times = []\n",
    "for i in range(num_reqs):\n",
    "    t1 = time.time()\n",
    "\n",
    "    results = current_collection.search(\n",
    "                data = [embs_list[70]],\n",
    "                anns_field = \"emb\",\n",
    "                param = {\"metric_type\": METRIC_TYPE, \"params\": {\"nprobe\": NPROBE}},\n",
    "                output_fields=['name', 'genre'],\n",
    "                limit = 10,\n",
    "                )\n",
    "    t2 = time.time()\n",
    "    vec_times.append(t2-t1)\n"
   ]
  },
  {
   "cell_type": "code",
   "execution_count": 66,
   "id": "6ac3ebd2-62be-4800-a0b9-8879f28453a9",
   "metadata": {},
   "outputs": [],
   "source": [
    "# Гибридный поиск\n",
    "hyb_times = []\n",
    "for i in range(num_reqs):\n",
    "    t1 = time.time()\n",
    "\n",
    "    results = current_collection.search(\n",
    "                data = [embs_list[i]],\n",
    "                anns_field = \"emb\",\n",
    "                param = {\"metric_type\": METRIC_TYPE, \"params\": {\"nprobe\": NPROBE}},\n",
    "                output_fields=['name', 'genre'],\n",
    "                limit = 10,\n",
    "                expr=\"genre == 'Comedy'\",\n",
    "                )\n",
    "    t2 = time.time()\n",
    "    hyb_times.append(t2-t1)\n"
   ]
  },
  {
   "cell_type": "code",
   "execution_count": 67,
   "id": "685166ec-d784-4274-9046-aabe6a7b2587",
   "metadata": {},
   "outputs": [],
   "source": [
    "# Интервальный запрос\n",
    "range_times = []\n",
    "for i in range(num_reqs):\n",
    "    t1 = time.time()\n",
    "\n",
    "    results = current_collection.search(\n",
    "                data = [embs_list[70]],\n",
    "                anns_field = \"emb\",\n",
    "                param = {\"metric_type\": METRIC_TYPE, \"params\": {\"nprobe\": NPROBE,\n",
    "                # искать вектора с расстоянием более 0.8\n",
    "                \"radius\": 0.8,\n",
    "                # отфильтровать самые близкие вектора с расстоянием более 0.95\n",
    "                \"range_filter\" : 0.95}},\n",
    "                output_fields=['name', 'genre'],\n",
    "                limit = 10,\n",
    "                )\n",
    "    t2 = time.time()\n",
    "    range_times.append(t2-t1)\n"
   ]
  },
  {
   "cell_type": "code",
   "execution_count": 68,
   "id": "8d887a5b-ac76-4a80-958c-1ebfc546b825",
   "metadata": {},
   "outputs": [],
   "source": [
    "def confidence_interval(data, confidence=0.95):\n",
    "    # Размер выборки\n",
    "    n = len(data)\n",
    "    \n",
    "    # Среднее значение выборки\n",
    "    mean = np.mean(data)\n",
    "    \n",
    "    # Стандартное отклонение выборки\n",
    "    std_err = np.std(data, ddof=1) / np.sqrt(n)  # ddof=1 для корректировки на n-1\n",
    "    \n",
    "    # Критическое значение (t-критерий для неизвестного стандартного отклонения)\n",
    "    h = std_err * stats.t.ppf((1 + confidence) / 2, n - 1)\n",
    "    \n",
    "    return mean - h, mean, mean + h"
   ]
  },
  {
   "cell_type": "code",
   "execution_count": 69,
   "id": "1748444a-6790-4aba-b9ef-9df1ba43ef46",
   "metadata": {},
   "outputs": [
    {
     "data": {
      "text/plain": [
       "(0.0010285450538535868, 0.0010812833309173583, 0.0011340216079811299)"
      ]
     },
     "execution_count": 69,
     "metadata": {},
     "output_type": "execute_result"
    }
   ],
   "source": [
    "confidence_interval(vec_times)"
   ]
  },
  {
   "cell_type": "code",
   "execution_count": 70,
   "id": "0f3fcb46-e4f7-407f-bd64-9ae223b78a40",
   "metadata": {},
   "outputs": [
    {
     "data": {
      "text/plain": [
       "(0.0010964709221823923, 0.0011289124488830567, 0.0011613539755837212)"
      ]
     },
     "execution_count": 70,
     "metadata": {},
     "output_type": "execute_result"
    }
   ],
   "source": [
    "confidence_interval(hyb_times)"
   ]
  },
  {
   "cell_type": "code",
   "execution_count": 71,
   "id": "f9ea1e4a-1755-4723-8e0f-6f6a072a7c1e",
   "metadata": {},
   "outputs": [
    {
     "data": {
      "text/plain": [
       "(0.0021660644095438893, 0.002207417011260986, 0.002248769612978083)"
      ]
     },
     "execution_count": 71,
     "metadata": {},
     "output_type": "execute_result"
    }
   ],
   "source": [
    "confidence_interval(range_times)"
   ]
  },
  {
   "cell_type": "markdown",
   "id": "7c82a091-9cc6-455c-8349-aa43622ceb7d",
   "metadata": {},
   "source": [
    "#### Шаг 7: Удаляем элементы"
   ]
  },
  {
   "cell_type": "code",
   "execution_count": 72,
   "id": "7c532b18-b610-412e-9736-0d7ecd78da65",
   "metadata": {},
   "outputs": [
    {
     "data": {
      "text/plain": [
       "(insert count: 0, delete count: 2, upsert count: 0, timestamp: 453860902816186370, success count: 0, err count: 0)"
      ]
     },
     "execution_count": 72,
     "metadata": {},
     "output_type": "execute_result"
    }
   ],
   "source": [
    "# удаляем только по айди (удаляем toy story и \n",
    "\n",
    "expr = \"id in [0, 20]\"\n",
    "\n",
    "current_collection.delete(expr)"
   ]
  },
  {
   "cell_type": "code",
   "execution_count": 75,
   "id": "8f78858b-5f4c-44e9-b703-22d7d59857d2",
   "metadata": {},
   "outputs": [
    {
     "data": {
      "text/plain": [
       "'Toy Story (1995)'"
      ]
     },
     "execution_count": 75,
     "metadata": {},
     "output_type": "execute_result"
    }
   ],
   "source": [
    "getMovieName(0)"
   ]
  },
  {
   "cell_type": "code",
   "execution_count": 76,
   "id": "e15633e3-21fa-4219-afd9-10cd2ac79d54",
   "metadata": {},
   "outputs": [
    {
     "name": "stdout",
     "output_type": "stream",
     "text": [
      "distance: 0.9352405667304993 name: Mask, The (1994) genre: Action|Comedy|Crime|Fantasy id 22\n",
      "distance: 0.9291642904281616 name: Jurassic Park (1993) genre: Action|Adventure|Sci-Fi|Thriller id 26\n",
      "distance: 0.9222590327262878 name: Mission: Impossible (1996) genre: Action|Adventure|Mystery|Thriller id 37\n",
      "distance: 0.9092432856559753 name: Jerry Maguire (1996) genre: Drama|Romance id 2419\n",
      "distance: 0.9043625593185425 name: Back to the Future (1985) genre: Adventure|Comedy|Sci-Fi id 85\n",
      "distance: 0.9040169715881348 name: Willy Wonka & the Chocolate Factory (1971) genre: Children|Comedy|Fantasy|Musical id 60\n",
      "distance: 0.9036213159561157 name: Star Wars: Episode IV - A New Hope (1977) genre: Action|Adventure|Sci-Fi id 15\n",
      "distance: 0.9001542925834656 name: Princess Bride, The (1987) genre: Action|Adventure|Comedy|Fantasy|Romance id 69\n",
      "distance: 0.8963816165924072 name: Star Wars: Episode VI - Return of the Jedi (1983) genre: Action|Adventure|Sci-Fi id 73\n",
      "distance: 0.8896968364715576 name: Groundhog Day (1993) genre: Comedy|Fantasy|Romance id 84\n"
     ]
    }
   ],
   "source": [
    "results = current_collection.search(\n",
    "            data = [embs_list[0]],\n",
    "            anns_field = \"emb\",\n",
    "            param = {\"metric_type\": METRIC_TYPE, \"params\": {\"nprobe\": NPROBE}},\n",
    "            output_fields=['name', 'genre'],\n",
    "            limit = 10,\n",
    "            )\n",
    "for hits in results:\n",
    "    for hit in hits:\n",
    "        print(\"distance:\", hit.distance, \"name:\", hit.entity.get('name'), \"genre:\", hit.entity.get('genre'), \"id\", hit.id)"
   ]
  },
  {
   "cell_type": "code",
   "execution_count": 195,
   "id": "eaf0fa0e-09ad-4c53-944e-a2cd9d739709",
   "metadata": {},
   "outputs": [
    {
     "data": {
      "text/plain": [
       "'Toy Story (1995)'"
      ]
     },
     "execution_count": 195,
     "metadata": {},
     "output_type": "execute_result"
    }
   ],
   "source": [
    "getMovieName(0)"
   ]
  },
  {
   "cell_type": "markdown",
   "id": "264a0831-0dca-4db4-b603-9a62bfb509a6",
   "metadata": {},
   "source": [
    "#### Хотим залить вектор обратно"
   ]
  },
  {
   "cell_type": "code",
   "execution_count": 78,
   "id": "590a47b4-166e-4fdf-8a83-6e12b293a881",
   "metadata": {},
   "outputs": [],
   "source": [
    "data = [\n",
    "    [0],\n",
    "    [names_list[0]],\n",
    "    [genres_list[0]],\n",
    "    [embs_list[0]]\n",
    "]"
   ]
  },
  {
   "cell_type": "code",
   "execution_count": 79,
   "id": "5d252b66-9fb0-4b2f-81f4-1084aa41fa81",
   "metadata": {},
   "outputs": [
    {
     "data": {
      "text/plain": [
       "(insert count: 1, delete count: 0, upsert count: 0, timestamp: 453860949032960001, success count: 1, err count: 0)"
      ]
     },
     "execution_count": 79,
     "metadata": {},
     "output_type": "execute_result"
    }
   ],
   "source": [
    "current_collection.insert(data)"
   ]
  },
  {
   "cell_type": "code",
   "execution_count": 80,
   "id": "de70af28-e1b3-4d42-a28d-87364c8c054d",
   "metadata": {},
   "outputs": [],
   "source": [
    "current_collection.flush()"
   ]
  },
  {
   "cell_type": "markdown",
   "id": "ba8a3b05-b483-472a-bd29-ec9d55cf98d0",
   "metadata": {},
   "source": [
    "#### Проверим, что залили"
   ]
  },
  {
   "cell_type": "code",
   "execution_count": 81,
   "id": "cbd70089-43d0-4abb-8ed9-c377dfbb2db2",
   "metadata": {},
   "outputs": [],
   "source": [
    "results = current_collection.search(\n",
    "            data = [embs_list[0]],\n",
    "            anns_field = \"emb\",\n",
    "            param = {\"metric_type\": METRIC_TYPE, \"params\": {\"nprobe\": NPROBE}},\n",
    "            output_fields=['name', 'genre'],\n",
    "            limit = 10,\n",
    "            )"
   ]
  },
  {
   "cell_type": "code",
   "execution_count": 82,
   "id": "4c9b7a7c-a2d8-4226-9c60-fb5b2e863622",
   "metadata": {},
   "outputs": [
    {
     "name": "stdout",
     "output_type": "stream",
     "text": [
      "distance: 1.0015816688537598 name: Toy Story (1995) genre: Adventure|Animation|Children|Comedy|Fantasy id 0\n",
      "distance: 0.9364252090454102 name: Mask, The (1994) genre: Action|Comedy|Crime|Fantasy id 22\n",
      "distance: 0.9277326464653015 name: Jurassic Park (1993) genre: Action|Adventure|Sci-Fi|Thriller id 26\n",
      "distance: 0.9235677719116211 name: Mission: Impossible (1996) genre: Action|Adventure|Mystery|Thriller id 37\n",
      "distance: 0.9121944904327393 name: Jerry Maguire (1996) genre: Drama|Romance id 2419\n",
      "distance: 0.9042680263519287 name: Back to the Future (1985) genre: Adventure|Comedy|Sci-Fi id 85\n",
      "distance: 0.903944194316864 name: Willy Wonka & the Chocolate Factory (1971) genre: Children|Comedy|Fantasy|Musical id 60\n",
      "distance: 0.9018750786781311 name: Star Wars: Episode IV - A New Hope (1977) genre: Action|Adventure|Sci-Fi id 15\n",
      "distance: 0.9010976552963257 name: Princess Bride, The (1987) genre: Action|Adventure|Comedy|Fantasy|Romance id 69\n",
      "distance: 0.8961119055747986 name: Star Wars: Episode VI - Return of the Jedi (1983) genre: Action|Adventure|Sci-Fi id 73\n"
     ]
    }
   ],
   "source": [
    "for hits in results:\n",
    "    for hit in hits:\n",
    "        print(\"distance:\", hit.distance, \"name:\", hit.entity.get('name'), \"genre:\", hit.entity.get('genre'), \"id\", hit.id)"
   ]
  },
  {
   "cell_type": "markdown",
   "id": "0c4a8011-d96e-4908-84d2-b7aab87c47b5",
   "metadata": {},
   "source": [
    "#### Шаг 8: Удаляем индекс "
   ]
  },
  {
   "cell_type": "code",
   "execution_count": 83,
   "id": "6aad7610-c2a1-4662-a493-c570994ffc71",
   "metadata": {},
   "outputs": [],
   "source": [
    "current_collection.release() # выгружаем индекс из памяти\n",
    "current_collection.drop_index() # удаляем индекс, но еще не удаляем данные"
   ]
  },
  {
   "cell_type": "markdown",
   "id": "6ae8dfb1-192a-47ef-8b44-b574f7299f35",
   "metadata": {},
   "source": [
    "#### Шаг 9: Удаляем коллекцию "
   ]
  },
  {
   "cell_type": "code",
   "execution_count": 84,
   "id": "962e191f-9880-4d00-8bbe-d1b72882fcd1",
   "metadata": {},
   "outputs": [],
   "source": [
    "from pymilvus import utility\n",
    "utility.drop_collection(\"movies\")\n",
    "\n"
   ]
  },
  {
   "cell_type": "code",
   "execution_count": null,
   "id": "f9bc2467-c69f-443a-b48c-3cf54e8b6415",
   "metadata": {},
   "outputs": [],
   "source": []
  }
 ],
 "metadata": {
  "kernelspec": {
   "display_name": "Python 3 (ipykernel)",
   "language": "python",
   "name": "python3"
  },
  "language_info": {
   "codemirror_mode": {
    "name": "ipython",
    "version": 3
   },
   "file_extension": ".py",
   "mimetype": "text/x-python",
   "name": "python",
   "nbconvert_exporter": "python",
   "pygments_lexer": "ipython3",
   "version": "3.8.10"
  }
 },
 "nbformat": 4,
 "nbformat_minor": 5
}
